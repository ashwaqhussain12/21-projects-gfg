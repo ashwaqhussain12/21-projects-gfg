{
  "cells": [
    {
      "cell_type": "markdown",
      "metadata": {
        "id": "CydC02-rpf3t"
      },
      "source": [
        "# Browser Agents\n",
        "\n",
        "The primary goal in web automation has always been to create tools that don't break when websites change.\n",
        "\n",
        "Foundational frameworks, with Selenium being the most notable, work by following direct commands. A developer writes a script with explicit, step-by-step instructions for the browser to follow. For example, a command might be, \"find an element using its specific XPath or CSS selector,\" followed by another command to \"click on it\" or \"type into it.\"\n",
        "\n",
        "The fundamental weakness of this method is its brittleness. Websites are dynamic; their underlying code structure, the Document Object Model (DOM), is frequently updated by developers. Even a minor code change, like altering an element's ID or adjusting the page layout, can cause the script's selector to fail.\n",
        "\n",
        "Once a selector breaks, the script cannot find its target element, and the entire automated process grinds to a halt. This creates a high maintenance burden, as scripts must be constantly fixed to keep up with website updates."
      ]
    },
    {
      "cell_type": "markdown",
      "metadata": {
        "id": "4Igkp9ZFq9Lq"
      },
      "source": [
        "An AI browser agent is a software program enhanced with artificial intelligence that can perform web-based tasks autonomously, much like a human user would. These agents operate within a web browser, using LLMs, and computer vision to interact with websites in a way that mimics human behavior.\n",
        "\n",
        "Instead of following a rigid, pre-written script like traditional automation tools, an AI browser agent is given a high-level goal in natural language, such as \"Find the top tech articles today\" or \"Book the cheapest flight to New York\". The agent then independently plans and executes the steps needed to achieve that goal.\n",
        "\n"
      ]
    },
    {
      "cell_type": "markdown",
      "metadata": {
        "id": "yXPytencySeX"
      },
      "source": [
        "## Installation\n",
        "```python\n",
        "pip install playwright && playwright install chromium --with-deps\n",
        "pip install browser-use\n",
        "```"
      ]
    },
    {
      "cell_type": "markdown",
      "metadata": {
        "id": "s8yA0lOH00Ai"
      },
      "source": [
        "## Basic Search"
      ]
    },
    {
      "cell_type": "markdown",
      "metadata": {
        "id": "CoGaIYJcNJYW"
      },
      "source": [
        "```python\n",
        "import asyncio\n",
        "import os\n",
        "import sys\n",
        "\n",
        "from dotenv import load_dotenv\n",
        "\n",
        "load_dotenv('./web-ui/.env')\n",
        "\n",
        "from browser_use import Agent\n",
        "from langchain_google_genai import ChatGoogleGenerativeAI\n",
        "\n",
        "async def main():\n",
        "    # Instantiate the Google Gemini model\n",
        "    llm = ChatGoogleGenerativeAI(model=\"gemini-2.0-flash\")\n",
        "    task = (\n",
        "        \"Search Google for 'what is browser automation' and tell me the top 3 results\"\n",
        "    )\n",
        "    agent = Agent(task=task, llm=llm)\n",
        "    history = await agent.run()\n",
        "    print(history.urls())\n",
        "\n",
        "\n",
        "if __name__ == \"__main__\":\n",
        "    asyncio.run(main())\n",
        "```"
      ]
    },
    {
      "cell_type": "markdown",
      "metadata": {
        "id": "QTiUi_EvOfpG"
      },
      "source": [
        "## Form Filling"
      ]
    },
    {
      "cell_type": "markdown",
      "metadata": {
        "id": "rjmfcCIK0Lau"
      },
      "source": [
        "# Run Basic Search example in your local machine, and provide history.urls()"
      ]
    },
    {
      "cell_type": "markdown",
      "metadata": {},
      "source": [
        "## Output from Web UI"
      ]
    },
    {
      "cell_type": "markdown",
      "metadata": {},
      "source": [
        "![ss](./Screenshot%202025-09-28%20at%208.42.10 PM.png)"
      ]
    },
    {
      "cell_type": "markdown",
      "metadata": {},
      "source": [
        "![gif](./41e0d75f-4c0e-423c-8b03-70f06f39b40f.gif)"
      ]
    },
    {
      "cell_type": "markdown",
      "metadata": {},
      "source": [
        "## Output from script\n",
        "\n",
        "[script main.py](./main.py)\n",
        "\n",
        "```python\n",
        "import asyncio\n",
        "import os\n",
        "import sys\n",
        "\n",
        "from dotenv import load_dotenv\n",
        "\n",
        "load_dotenv('./web-ui/.env')\n",
        "\n",
        "from browser_use import Agent\n",
        "from langchain_google_genai import ChatGoogleGenerativeAI\n",
        "\n",
        "async def main():\n",
        "    # Instantiate the Google Gemini model\n",
        "    llm = ChatGoogleGenerativeAI(model=\"gemini-2.0-flash\")\n",
        "    task = (\n",
        "        \"Search Google for 'what is browser automation' and tell me the top 3 results\"\n",
        "    )\n",
        "    agent = Agent(task=task, llm=llm)\n",
        "    history = await agent.run()\n",
        "    print(history.urls())\n",
        "\n",
        "\n",
        "if __name__ == \"__main__\":\n",
        "    asyncio.run(main())\n",
        "```\n",
        "\n",
        "![main](./Screenshot%202025-09-28%20at%208.43.17 PM.png)"
      ]
    },
    {
      "cell_type": "markdown",
      "metadata": {},
      "source": [
        "History Urls:\n",
        "\n",
        "* 'about:blank'\n",
        "* 'https://www.google.com/search?q=what%20is%20browser%20automation&udm=14&sei=83_ZaMSlI5CP7NYPj-aTyQo'\n",
        "* 'https://www.google.com/search?q=what%20is%20browser%20automation&udm=14&sei=83_ZaMSlI5CP7NYPj-aTyQo'"
      ]
    }
  ],
  "metadata": {
    "colab": {
      "provenance": []
    },
    "kernelspec": {
      "display_name": "venv (3.10.0)",
      "language": "python",
      "name": "python3"
    },
    "language_info": {
      "codemirror_mode": {
        "name": "ipython",
        "version": 3
      },
      "file_extension": ".py",
      "mimetype": "text/x-python",
      "name": "python",
      "nbconvert_exporter": "python",
      "pygments_lexer": "ipython3",
      "version": "3.10.0"
    }
  },
  "nbformat": 4,
  "nbformat_minor": 0
}
