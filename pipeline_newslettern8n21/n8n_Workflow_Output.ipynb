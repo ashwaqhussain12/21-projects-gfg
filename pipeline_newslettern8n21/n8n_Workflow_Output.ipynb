{
 "cells": [
  {
   "cell_type": "markdown",
   "id": "2778288b",
   "metadata": {},
   "source": [
    "# n8n Workflows\n",
    "\n",
    "<https://n8n.io/workflows/>"
   ]
  },
  {
   "cell_type": "markdown",
   "id": "6428ae85",
   "metadata": {},
   "source": [
    "# Run n8n locally\n",
    "\n",
    "```bash\n",
    "docker volume create n8n_data\n",
    "docker run -it --rm --name n8n -p 5678:5678 -v n8n_data:/home/node/.n8n docker.n8n.io/n8nio/n8n\n",
    "```\n",
    "\n",
    "<http://localhost:5678/>"
   ]
  },
  {
   "cell_type": "markdown",
   "id": "dc6c80ac",
   "metadata": {},
   "source": [
    "## Outputs\n",
    "\n",
    "### [Workflow Link](https://drive.google.com/file/d/1Rbq3xqiqBqL4IL3EL0O0r74Vpxsz_UXN/view)\n",
    "\n",
    "![workflow](./Workflow_Output_3.png)\n",
    "\n",
    "### Results\n",
    "\n",
    "![result1](./Workflow_Output_1.png)\n",
    "![result2](./Workflow_Output_2.png)"
   ]
  }
 ],
 "metadata": {
  "language_info": {
   "name": "python"
  }
 },
 "nbformat": 4,
 "nbformat_minor": 5
}
